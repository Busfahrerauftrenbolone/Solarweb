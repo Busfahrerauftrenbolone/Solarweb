{
 "cells": [
  {
   "cell_type": "code",
   "execution_count": null,
   "metadata": {},
   "outputs": [],
   "source": [
    "!pip install pydeck\n",
    "!pip install OWSlib"
   ]
  },
  {
   "cell_type": "code",
   "execution_count": null,
   "metadata": {},
   "outputs": [],
   "source": [
    "from owslib.wfs import WebFeatureService\n",
    "\n",
    "# Define the URL of the WFS service \n",
    "#https://data.wien.gv.at/daten/geo?version=1.0.0&typeName=ogdwien:FMZKBKMOGD&outputFormat=shape-zip&SRS=EPSG:31256&BBOX=2748,341794,4516,\n",
    "wfs_url = 'https://data.wien.gv.at/daten/geo?'\n",
    "\n",
    "# Connect to the WFS service\n",
    "wfs = WebFeatureService(wfs_url, version='1.1.0')\n",
    "\n",
    "# Get the available layers\n",
    "print(\"Available layers:\")\n",
    "for typename, title in wfs.contents.items():\n",
    "    print(f\"- {typename}: {title}\")\n",
    "\n",
    "\n",
    "# Note: Adjust the parameters (URL, layer_name, bounding box, etc.) based on your specific WFS service and requirements.\n"
   ]
  },
  {
   "cell_type": "markdown",
   "metadata": {},
   "source": [
    "# Choose a specific layer\n",
    "layer_name = 'ogdwien:SOLARANLAGLSTGOGD'\n",
    "layer = wfs[layer_name]\n",
    "layer.__dict__\n"
   ]
  }
 ],
 "metadata": {
  "language_info": {
   "name": "python"
  }
 },
 "nbformat": 4,
 "nbformat_minor": 2
}
