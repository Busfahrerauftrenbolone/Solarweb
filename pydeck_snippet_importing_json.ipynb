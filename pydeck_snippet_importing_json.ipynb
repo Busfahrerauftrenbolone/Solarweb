{
 "cells": [
  {
   "cell_type": "code",
   "execution_count": 1,
   "metadata": {},
   "outputs": [
    {
     "data": {
      "text/plain": [
       "7"
      ]
     },
     "execution_count": 1,
     "metadata": {},
     "output_type": "execute_result"
    }
   ],
   "source": [
    "# importing json file (containing data extracted from DB)\n",
    "import gzip\n",
    "import json\n",
    "filepath = \"D:\\EMS\\output.json.gz\" # filepath to be changed \n",
    "with gzip.open(filepath, \"rt\") as file:\n",
    "    feature_collection = json.load(file)\n",
    "len(feature_collection)"
   ]
  },
  {
   "cell_type": "code",
   "execution_count": 4,
   "metadata": {},
   "outputs": [
    {
     "data": {
      "text/plain": [
       "185261"
      ]
     },
     "execution_count": 4,
     "metadata": {},
     "output_type": "execute_result"
    }
   ],
   "source": [
    "features = feature_collection[\"features\"]\n",
    "len(features) "
   ]
  },
  {
   "cell_type": "code",
   "execution_count": 3,
   "metadata": {},
   "outputs": [
    {
     "data": {
      "text/plain": [
       "144329"
      ]
     },
     "execution_count": 3,
     "metadata": {},
     "output_type": "execute_result"
    }
   ],
   "source": [
    "\n",
    "features = feature_collection[\"features\"]\n",
    "#len(features) # there 100000 features\n",
    "# checking the 'ADRESSE':\n",
    "features[0][\"properties\"][\"ADRESSE\"]\n",
    "\n",
    "# deleting ' ' assigned ADRESSEs, filtereing or selecting features with ADRESSEs\n",
    "out = []\n",
    "for i in range(len(features)):\n",
    "    if features[i][\"properties\"][\"ADRESSE\"] != ' ':\n",
    "        out.append(i)\n",
    "\n",
    "\n",
    "filtered_features = [features[i] for i in out]\n",
    "\n",
    "filtered_features[0]\n",
    "len(filtered_features)\n"
   ]
  }
 ],
 "metadata": {
  "kernelspec": {
   "display_name": "base",
   "language": "python",
   "name": "python3"
  },
  "language_info": {
   "codemirror_mode": {
    "name": "ipython",
    "version": 3
   },
   "file_extension": ".py",
   "mimetype": "text/x-python",
   "name": "python",
   "nbconvert_exporter": "python",
   "pygments_lexer": "ipython3",
   "version": "3.11.0"
  }
 },
 "nbformat": 4,
 "nbformat_minor": 2
}
